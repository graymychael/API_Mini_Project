{
 "cells": [
  {
   "cell_type": "code",
   "execution_count": 1,
   "id": "0bf55a0e-9068-470b-9c1e-c67267425f12",
   "metadata": {},
   "outputs": [],
   "source": [
    "# Replace api key with .env file for privacy\n",
    "import os\n",
    "from dotenv import load_dotenv\n",
    "\n",
    "load_dotenv()\n",
    "\n",
    "API_KEY = os.getenv('NASDAQ_API_KEY')"
   ]
  },
  {
   "cell_type": "code",
   "execution_count": 2,
   "id": "cc6448e3-07f3-4e34-a177-f5afeb1913a2",
   "metadata": {},
   "outputs": [],
   "source": [
    "# Import relevant module\n",
    "import requests\n",
    "import statistics"
   ]
  },
  {
   "cell_type": "code",
   "execution_count": 3,
   "id": "0180a512-9714-48ce-893f-3fc705e47861",
   "metadata": {},
   "outputs": [
    {
     "data": {
      "text/plain": [
       "200"
      ]
     },
     "execution_count": 3,
     "metadata": {},
     "output_type": "execute_result"
    }
   ],
   "source": [
    "# Used Nasdaq API to pull out a small sample of the data (only one day) as example\n",
    "r = requests.get(\"https://data.nasdaq.com/api/v3/datasets/FSE/AFX_X.json?start_date=2017-01-01&end_date=2017-01-02&api_Key=auth\", auth=('user', API_KEY))\n",
    "\n",
    "# Checked if status code successfull (200)\n",
    "r.status_code"
   ]
  },
  {
   "cell_type": "code",
   "execution_count": 4,
   "id": "b65517e7-4541-4305-8c0b-6183ff1e4b13",
   "metadata": {
    "collapsed": true,
    "jupyter": {
     "outputs_hidden": true
    },
    "tags": []
   },
   "outputs": [
    {
     "data": {
      "text/plain": [
       "{'dataset': {'id': 10095370,\n",
       "  'dataset_code': 'AFX_X',\n",
       "  'database_code': 'FSE',\n",
       "  'name': 'Carl Zeiss Meditec (AFX_X)',\n",
       "  'description': 'Stock Prices for Carl Zeiss Meditec (2020-11-02) from the Frankfurt Stock Exchange.<br><br>Trading System: Xetra<br><br>ISIN: DE0005313704',\n",
       "  'refreshed_at': '2020-12-01T14:48:09.907Z',\n",
       "  'newest_available_date': '2020-12-01',\n",
       "  'oldest_available_date': '2000-06-07',\n",
       "  'column_names': ['Date',\n",
       "   'Open',\n",
       "   'High',\n",
       "   'Low',\n",
       "   'Close',\n",
       "   'Change',\n",
       "   'Traded Volume',\n",
       "   'Turnover',\n",
       "   'Last Price of the Day',\n",
       "   'Daily Traded Units',\n",
       "   'Daily Turnover'],\n",
       "  'frequency': 'daily',\n",
       "  'type': 'Time Series',\n",
       "  'premium': False,\n",
       "  'limit': None,\n",
       "  'transform': None,\n",
       "  'column_index': None,\n",
       "  'start_date': '2017-01-01',\n",
       "  'end_date': '2017-01-02',\n",
       "  'data': [['2017-01-02',\n",
       "    34.99,\n",
       "    35.94,\n",
       "    34.99,\n",
       "    35.8,\n",
       "    None,\n",
       "    44700.0,\n",
       "    1590561.0,\n",
       "    None,\n",
       "    None,\n",
       "    None]],\n",
       "  'collapse': None,\n",
       "  'order': None,\n",
       "  'database_id': 6129}}"
      ]
     },
     "execution_count": 4,
     "metadata": {},
     "output_type": "execute_result"
    }
   ],
   "source": [
    "# Inspection of JSON structure object created\n",
    "r.json()"
   ]
  },
  {
   "cell_type": "markdown",
   "id": "1e5411d8-e58a-4f61-927a-5c61f375fb56",
   "metadata": {},
   "source": [
    "# API Tasks"
   ]
  },
  {
   "cell_type": "markdown",
   "id": "87160bee-7358-443e-b34b-9f62946f55f6",
   "metadata": {},
   "source": [
    "#### 1. Collect data from the Franfurt Stock Exchange, for the ticker AFX_X as json, for entire year of 2017 (date format is YYYY-MM-DD)."
   ]
  },
  {
   "cell_type": "code",
   "execution_count": 5,
   "id": "d831fea2-b972-49a1-88fa-dacc5644f5ff",
   "metadata": {},
   "outputs": [
    {
     "data": {
      "text/plain": [
       "200"
      ]
     },
     "execution_count": 5,
     "metadata": {},
     "output_type": "execute_result"
    }
   ],
   "source": [
    "r = requests.get(\"https://data.nasdaq.com/api/v3/datasets/FSE/AFX_X.json?start_date=2017-01-01&end_date=2018-01-01&api_Key=auth\", auth=('user', API_KEY))\n",
    "\n",
    "# Checked status code was successful (200)\n",
    "r.status_code"
   ]
  },
  {
   "cell_type": "markdown",
   "id": "26ab0e9c-8af2-40fd-a2db-3fd58cf06139",
   "metadata": {},
   "source": [
    "#### 2. Converted the returned JSON object into a Python dictionary and verified keys."
   ]
  },
  {
   "cell_type": "code",
   "execution_count": 6,
   "id": "24175494-1c8a-4f9f-a7f8-8b01c05035ea",
   "metadata": {
    "tags": []
   },
   "outputs": [
    {
     "name": "stdout",
     "output_type": "stream",
     "text": [
      "dict_keys(['id', 'dataset_code', 'database_code', 'name', 'description', 'refreshed_at', 'newest_available_date', 'oldest_available_date', 'column_names', 'frequency', 'type', 'premium', 'limit', 'transform', 'column_index', 'start_date', 'end_date', 'data', 'collapse', 'order', 'database_id'])\n"
     ]
    }
   ],
   "source": [
    "afx = dict(r.json())\n",
    "\n",
    "# Update dictionary for easier use and view\n",
    "afx = afx['dataset']\n",
    "\n",
    "print(afx.keys())"
   ]
  },
  {
   "cell_type": "code",
   "execution_count": 7,
   "id": "1132395c-a286-40dc-97a3-79bcfb854bcf",
   "metadata": {},
   "outputs": [
    {
     "name": "stdout",
     "output_type": "stream",
     "text": [
      "['Date', 'Open', 'High', 'Low', 'Close', 'Change', 'Traded Volume', 'Turnover', 'Last Price of the Day', 'Daily Traded Units', 'Daily Turnover']\n"
     ]
    }
   ],
   "source": [
    "# Separated column names for identification of data\n",
    "column_names = afx['column_names']\n",
    "print(column_names)"
   ]
  },
  {
   "cell_type": "code",
   "execution_count": 8,
   "id": "1311317a-3376-4c54-80b3-4bff922209ac",
   "metadata": {
    "tags": []
   },
   "outputs": [],
   "source": [
    "# Separated all data for identification by each day\n",
    "data = afx['data']"
   ]
  },
  {
   "cell_type": "code",
   "execution_count": 9,
   "id": "f13b80b7-2aa4-402d-9871-3d8aff38bf04",
   "metadata": {
    "tags": []
   },
   "outputs": [],
   "source": [
    "# Separated days for identification by each date\n",
    "all_days = [day[0] for day in data]"
   ]
  },
  {
   "cell_type": "code",
   "execution_count": 10,
   "id": "3d38613d-1b5a-433b-9297-1822c0bb77af",
   "metadata": {
    "tags": []
   },
   "outputs": [],
   "source": [
    "# Created tuples for all data according to column_names\n",
    "afx_tup = [dict(zip(column_names, dat)) for dat in data]\n",
    "\n",
    "# Created dictionary to reference data dictionaries by date\n",
    "afx_2017 = dict(zip(all_days, afx_tup))"
   ]
  },
  {
   "cell_type": "markdown",
   "id": "0a68f6c8-86ae-4def-8d22-10e531869d50",
   "metadata": {},
   "source": [
    "#### 3. Calculated what the highest and lowest opening prices were for the stock in period of year."
   ]
  },
  {
   "cell_type": "code",
   "execution_count": 11,
   "id": "1e87941c-675e-4c59-9f31-98b9eb2f5f3b",
   "metadata": {
    "tags": []
   },
   "outputs": [
    {
     "name": "stdout",
     "output_type": "stream",
     "text": [
      "The highest and lowest opening prices were 53.11(Highest) and 34.0(Lowest) for the price of AFX_X's stock in the year 2017.\n"
     ]
    }
   ],
   "source": [
    "# Indexed the \"Open\" key to get values for prices at open without prices listed as None\n",
    "high_low_open = [day['Open'] for date, day in afx_2017.items() if day['Open'] != None]\n",
    "\n",
    "# Sorted the indexed list based on descending order\n",
    "high_low_open.sort(reverse=True)\n",
    "\n",
    "# Popped the highest price at open per the year by index \n",
    "high_open = high_low_open.pop(0)\n",
    "\n",
    "# Popped the lowest price at open per the year by reverse indexing\n",
    "low_open = high_low_open.pop(-1)\n",
    "\n",
    "print(\"The highest and lowest opening prices were {}(Highest) and {}(Lowest) for the price of AFX_X's stock in the year 2017.\".format(high_open, low_open))"
   ]
  },
  {
   "cell_type": "markdown",
   "id": "09ecf3c5-d1d2-44a5-9aa2-e9b0777df5fb",
   "metadata": {},
   "source": [
    "#### 4. What was the largest change in any one day (based on High and Low price)."
   ]
  },
  {
   "cell_type": "code",
   "execution_count": 12,
   "id": "48a28f27-fe42-4560-9aa2-f15e3629f6b7",
   "metadata": {
    "tags": []
   },
   "outputs": [
    {
     "name": "stdout",
     "output_type": "stream",
     "text": [
      "The largest change in any one day (based on High and Low price) was the price of 2.81 at price difference of at least 281.0%.\n"
     ]
    }
   ],
   "source": [
    "# Created a price difference of High to low based on a list comprehension for 2017\n",
    "daily_change = [abs(round((day['Low'])-day['High'], 2)) for date, day in afx_2017.items()]\n",
    "\n",
    "# Used a list comprehension to show percentages of daily changes\n",
    "percent_changes = [round(change * 100, 1) for change in daily_change]\n",
    "\n",
    "# Narrowed down the changes by the largest change price and percentage\n",
    "largest_change_percent = (max(daily_change), max(percent_changes))\n",
    "\n",
    "print(\"The largest change in any one day (based on High and Low price) was the price of {} at price difference of at least {}%.\".format(\n",
    "    largest_change_percent[0],\n",
    "    largest_change_percent[1]))"
   ]
  },
  {
   "cell_type": "markdown",
   "id": "5f580952-bc2a-44d7-8e5e-ac5f2a2adfa3",
   "metadata": {},
   "source": [
    "#### 5. The largest change between any two days (based on Closing Price)."
   ]
  },
  {
   "cell_type": "code",
   "execution_count": 13,
   "id": "3a6fe7ad-050b-4853-8f12-7611d7865cdb",
   "metadata": {
    "tags": []
   },
   "outputs": [
    {
     "name": "stdout",
     "output_type": "stream",
     "text": [
      "The largest change or range between any two days (based on Closing Price) is the highest price of 53.09 and the lowest price of 34.06 equaling a difference of 19.03.\n"
     ]
    }
   ],
   "source": [
    "# Created a price difference of High to low based on a list comprehension for 2017\n",
    "closing_prc = [day['Close'] for date, day in afx_2017.items()]\n",
    "\n",
    "# Used the max and min function to get prices at Close\n",
    "max_cp = max(closing_prc)\n",
    "min_cp = min(closing_prc)\n",
    "\n",
    "# Max and Min positions for referencing dates with indexes\n",
    "# max_pos = [(date, day['Close']) for date, day in afx_2017.items() if day['Close'] == max_cp]\n",
    "# min_pos = [(date, day['Close']) for date, day in afx_2017.items() if day['Close'] == min_cp]\n",
    "\n",
    "print(\"The largest change or range between any two days (based on Closing Price) is the highest price of {} and the lowest price of {} equaling a difference of {}.\"\n",
    "      .format(\n",
    "          max_cp,\n",
    "          min_cp,\n",
    "          max_cp-min_cp\n",
    "      ))"
   ]
  },
  {
   "cell_type": "markdown",
   "id": "e9dd5678-f469-4e99-b824-9bbc6d8ab36c",
   "metadata": {},
   "source": [
    "#### 6. The average daily trading volume during the year 2017."
   ]
  },
  {
   "cell_type": "code",
   "execution_count": 14,
   "id": "b9a90e31-5e14-4638-9fba-3fa30f022261",
   "metadata": {},
   "outputs": [
    {
     "name": "stdout",
     "output_type": "stream",
     "text": [
      "The average daily trading volume during the year 2017 is                                                                                                                                                                                                                                                                                                                                                                                                                                                                                                                                                                                                                                                                                                                                                                                                                                                                                                                                                                                                                                                                                                                                                                                                                                                                                                                                                                                                                                                                                                                                                                                                                                                                                                                                                                                                                                                                                                                                                                                                                                                                                                                                                                                                                                                                                                                                                                                                                                                                                                                                                                                                                                                                                                                                                                                                                                                                                                                                                                                                                                                                                                                                                                                                                                                                                                                                                                                                                                                                                                                                                                                                                                                                                                                                                                                                                                                                                                                                                                                                                                                                                                                                                                                                                                                                                                                                                                                                                                                                                                                                                                                                                                                                                                                                                                                                                                                                                                                                                                                                                                                                                                                                                                                                                                                                                                                                                                                                                                                                                                                                                                                                                                                                                                                                                                                                                                                                                                                                                                                                                                                                                                                                                                                                                                                                                                                                                                                                                                                                                                                                                                                                                                                                                                                                                                                                                                                                                                                                                                                                                                                                                                                                                                                                                                                                                                                                                                                                                                                                                                                                                                                                                                                                                                                                                                                                                                                                                                                                                                                                                                                                                                                                                                                                                                                                                                                                                                                                                                                                                                                                                                                                                                                                                                                                                                                                                                                                                                                                                                                                                                                                                                                                                                                                                                                                                                                                                                                                                                                                                                                                                                                                                                                                                                                                                                                                                                                                                                                                                                                                                                                                                                                                                                                                                                                                                                                                                                                                                                                                                                                                                                                                                                                                                                                                                                                                                                                                                                                                                                                                                                                                                                                                                                                                                                                                                                                                                                                                                                                                                                                                                                89124.34.\n"
     ]
    }
   ],
   "source": [
    "# List comprehesion for trading volume during 2017\n",
    "daily_tv = [day['Traded Volume'] for date, day in afx_2017.items()]\n",
    "\n",
    "# Sum of all days based on AFX_X's \"Traded Volume\"\n",
    "total_dtv = sum(daily_tv)\n",
    "\n",
    "# Length of all trading days for the year 2017 based on AFX_X's \"Traded Volume\"\n",
    "trading_days = len(daily_tv)\n",
    "\n",
    "# Mean value of all trading days for the year 2017 based on AFX_X's \"Traded Volume\"\n",
    "avr_volume_2017 = total_dtv / trading_days\n",
    "\n",
    "print(\"The average daily trading volume during the year 2017 is %11111.2f.\" % avr_volume_2017)"
   ]
  },
  {
   "cell_type": "markdown",
   "id": "1669f381-5bd3-4a11-9d4a-f7aeadba7fd8",
   "metadata": {},
   "source": [
    "#### 7. (Optional) What was the median trading volume during the year 2017. (Note: you may need to implement your own function for calculating the median.)"
   ]
  },
  {
   "cell_type": "code",
   "execution_count": 15,
   "id": "467bf535-d516-409d-ac07-26f856afe2f1",
   "metadata": {},
   "outputs": [
    {
     "name": "stdout",
     "output_type": "stream",
     "text": [
      "The median trading volume during the year 2017 is                                                                                                                                                                                                                                                                                                                                                                                                                                                                                                                                                                                                                                                                                                                                                                                                                                                                                                                                                                                                                                                                                                                                                                                                                                                                                                                                                                                                                                                                                                                                                                                                                                                                                                                                                                                                                                                                                                                                                                                                                                                                                                                                                                                                                                                                                                                                                                                                                                                                                                                                                                                                                                                                                                                                                                                                                                                                                                                                                                                                                                                                                                                                                                                                                                                                                                                                                                                                                                                                                                                                                                                                                                                                                                                                                                                                                                                                                                                                                                                                                                                                                                                                                                                                                                                                                                                                                                                                                                                                                                                                                                                                                                                                                                                                                                                                                                                                                                                                                                                                                                                                                                                                                                                                                                                                                                                                                                                                                                                                                                                                                                                                                                                                                                                                                                                                                                                                                                                                                                                                                                                                                                                                                                                                                                                                                                                                                                                                                                                                                                                                                                                                                                                                                                                                                                                                                                                                                                                                                                                                                                                                                                                                                                                                                                                                                                                                                                                                                                                                                                                                                                                                                                                                                                                                                                                                                                                                                                                                                                                                                                                                                                                                                                                                                                                                                                                                                                                                                                                                                                                                                                                                                                                                                                                                                                                                                                                                                                                                                                                                                                                                                                                                                                                                                                                                                                                                                                                                                                                                                                                                                                                                                                                                                                                                                                                                                                                                                                                                                                                                                                                                                                                                                                                                                                                                                                                                                                                                                                                                                                                                                                                                                                                                                                                                                                                                                                                                                                                                                                                                                                                                                                                                                                                                                                                                                                                                                                                                                                                                                                                                                                76286.00.\n"
     ]
    }
   ],
   "source": [
    "# Used the built-in Python standard module to calculate median trading volume during 2017\n",
    "median_tv = statistics.median(daily_tv)\n",
    "\n",
    "print(\"The median trading volume during the year 2017 is %11111.2f.\" % median_tv)"
   ]
  }
 ],
 "metadata": {
  "kernelspec": {
   "display_name": "Python 3 (ipykernel)",
   "language": "python",
   "name": "python3"
  },
  "language_info": {
   "codemirror_mode": {
    "name": "ipython",
    "version": 3
   },
   "file_extension": ".py",
   "mimetype": "text/x-python",
   "name": "python",
   "nbconvert_exporter": "python",
   "pygments_lexer": "ipython3",
   "version": "3.9.7"
  }
 },
 "nbformat": 4,
 "nbformat_minor": 5
}
